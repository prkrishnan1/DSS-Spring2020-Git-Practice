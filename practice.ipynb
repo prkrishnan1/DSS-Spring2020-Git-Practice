{
 "cells": [
  {
   "cell_type": "markdown",
   "metadata": {},
   "source": [
    "# Introductory Git Practice\n",
    "<br>\n",
    "Before starting, make sure that you are on the branch you created.\n",
    "<br>\n",
    "Use the cell below to print the sentence \"Hello, my name is ______.\" Fill in the blank with your name. "
   ]
  },
  {
   "cell_type": "code",
   "execution_count": 1,
   "metadata": {},
   "outputs": [
    {
     "name": "stdout",
     "output_type": "stream",
     "text": [
      "Hello, my name is Pranav.\n"
     ]
    }
   ],
   "source": [
    "print('Hello, my name is Pranav.')"
   ]
  },
  {
   "cell_type": "markdown",
   "metadata": {},
   "source": [
    "Then commit your changes to this file and push to your branch.\n",
    "<br>\n",
    "Make a pull request and add Rick and Pranav as reviewers."
   ]
  }
 ],
 "metadata": {
  "kernelspec": {
   "display_name": "Python 3",
   "language": "python",
   "name": "python3"
  },
  "language_info": {
   "codemirror_mode": {
    "name": "ipython",
    "version": 3
   },
   "file_extension": ".py",
   "mimetype": "text/x-python",
   "name": "python",
   "nbconvert_exporter": "python",
   "pygments_lexer": "ipython3",
   "version": "3.6.5"
  }
 },
 "nbformat": 4,
 "nbformat_minor": 2
}
